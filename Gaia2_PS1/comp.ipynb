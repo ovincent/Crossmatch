{
 "cells": [
  {
   "cell_type": "code",
   "execution_count": 1,
   "metadata": {},
   "outputs": [],
   "source": [
    "import numpy as np\n",
    "import matplotlib.pyplot as plt"
   ]
  },
  {
   "cell_type": "code",
   "execution_count": 2,
   "metadata": {},
   "outputs": [],
   "source": [
    "mwdd_info = np.loadtxt('gaia_mwdd.csv',delimiter=',',dtype=str)\n",
    "sample_info = np.loadtxt('ps1matches.txt',delimiter=',',dtype=str)"
   ]
  },
  {
   "cell_type": "code",
   "execution_count": 3,
   "metadata": {},
   "outputs": [
    {
     "data": {
      "text/plain": [
       "array(['request', 'Gaia DR2 1038076351151065088',\n",
       "       'Gaia DR2 1058284412796260480', ..., 'Gaia DR2 998347456987797120',\n",
       "       'Gaia DR2 99915890086770176', 'Gaia DR2 999298152291419776'],\n",
       "      dtype='<U28')"
      ]
     },
     "execution_count": 3,
     "metadata": {},
     "output_type": "execute_result"
    }
   ],
   "source": [
    "mwdd_info[:,0]"
   ]
  },
  {
   "cell_type": "code",
   "execution_count": 45,
   "metadata": {},
   "outputs": [
    {
     "name": "stdout",
     "output_type": "stream",
     "text": [
      "4461 4103 746 58\n",
      "7.96327924850555\n"
     ]
    }
   ],
   "source": [
    "# this part is to make sure crossmatches are good using atmosphere models\n",
    "#parallax.f info (PS1+gaia)\n",
    "pid = []\n",
    "chisq = []\n",
    "\n",
    "\n",
    "with open('OUT_parallax_PanSTARRS_100pc_H') as f:\n",
    "    lignes = f.readlines()\n",
    "    for i in range(len(lignes)):\n",
    "        ligne = lignes[i]\n",
    "        \n",
    "        if ligne[:8]=='chisq = ':\n",
    "            chisq.append(ligne[8:-2].strip())\n",
    "            \n",
    "        elif ligne[:5]=='-----':\n",
    "            nameline = lignes[i-1][:-2].rstrip()\n",
    "            pid.append(nameline)\n",
    "            \n",
    "# tag matches according to their chisq\n",
    "qflags = []\n",
    "\n",
    "for i in range(len(chisq)):\n",
    "    if chisq[i]=='Na': \n",
    "        qflags.append('bad')\n",
    "        continue\n",
    "    \n",
    "    q = float(chisq[i])\n",
    "    if q==0.: qflags.append('noPhot')\n",
    "    elif q<0.0005: qflags.append('bad')\n",
    "    elif q<=10.: qflags.append('good')\n",
    "    elif q<=100.: qflags.append('suspect')\n",
    "    else: qflags.append('bad')\n",
    "        \n",
    "print(qflags.count('good'),qflags.count('suspect'),qflags.count('bad'),qflags.count('noPhot'))\n",
    "print(qflags.count('bad')/(len(qflags))*100)"
   ]
  },
  {
   "cell_type": "code",
   "execution_count": 46,
   "metadata": {},
   "outputs": [
    {
     "name": "stdout",
     "output_type": "stream",
     "text": [
      "7183 294 45 5278\n",
      "0.3515625\n"
     ]
    }
   ],
   "source": [
    "# this part is to make sure crossmatches are good using atmosphere models\n",
    "#parallax.f info (PS1+gaia)\n",
    "pid_mwdd = []\n",
    "chisq_mwdd = []\n",
    "\n",
    "\n",
    "with open('OUT_parallax_PanSTARRS_100pc_H_mwdd') as f:\n",
    "    lignes = f.readlines()\n",
    "    for i in range(len(lignes)):\n",
    "        ligne = lignes[i]\n",
    "        \n",
    "        if ligne[:8]=='chisq = ':\n",
    "            chisq_mwdd.append(ligne[8:-2].strip())\n",
    "            \n",
    "        elif ligne[:-1]=='------------------------------':\n",
    "            nameline = lignes[i-1][:-2].rstrip()\n",
    "            pid_mwdd.append(nameline)\n",
    "            \n",
    "# tag matches according to their chisq\n",
    "qflags_mwdd = []\n",
    "\n",
    "for i in range(len(chisq_mwdd)):\n",
    "    if chisq_mwdd[i]=='Na': \n",
    "        qflags_mwdd.append('bad')\n",
    "        continue\n",
    "    \n",
    "    q = float(chisq_mwdd[i])\n",
    "    if q==0.: qflags_mwdd.append('noPhot')\n",
    "    elif q<0.0005: qflags_mwdd.append('bad')\n",
    "    elif q<=10.: qflags_mwdd.append('good')\n",
    "    elif q<=100.: qflags_mwdd.append('suspect')\n",
    "    else: qflags_mwdd.append('bad')\n",
    "        \n",
    "print(qflags_mwdd.count('good'),qflags_mwdd.count('suspect'),qflags_mwdd.count('bad'),qflags_mwdd.count('noPhot'))\n",
    "print(qflags_mwdd.count('bad')/(len(qflags_mwdd))*100)"
   ]
  },
  {
   "cell_type": "code",
   "execution_count": 47,
   "metadata": {},
   "outputs": [
    {
     "name": "stdout",
     "output_type": "stream",
     "text": [
      "Gaia DR2 431635455820288128 noPhot good\n",
      "Gaia DR2 2418116963320446720 noPhot good\n",
      "Gaia DR2 2346642484109864960 good good\n",
      "Gaia DR2 2342218942669916672 suspect good\n",
      "Gaia DR2 2552928187080872832 noPhot suspect\n",
      "Gaia DR2 426122397136335872 noPhot good\n",
      "Gaia DR2 2790494850219788160 noPhot good\n",
      "Gaia DR2 413330854959153792 good bad\n",
      "Gaia DR2 2482813425794003200 good good\n",
      "Gaia DR2 2482813430089468160 good good\n",
      "Gaia DR2 105240786245136256 noPhot good\n",
      "Gaia DR2 5135133886317601280 suspect good\n",
      "Gaia DR2 2490975272405858048 good good\n",
      "Gaia DR2 561231932144411008 noPhot good\n",
      "Gaia DR2 339492052075797376 noPhot good\n",
      "Gaia DR2 19693180966870656 suspect bad\n",
      "Gaia DR2 8578256576520320 noPhot good\n",
      "Gaia DR2 5188044687948351872 suspect good\n",
      "Gaia DR2 5181816233750415488 good good\n",
      "Gaia DR2 544718680539607680 suspect bad\n",
      "Gaia DR2 3249114137765329920 good good\n",
      "Gaia DR2 3249479592234269056 suspect good\n",
      "Gaia DR2 66837563803594880 suspect good\n",
      "Gaia DR2 490062094962403200 suspect suspect\n",
      "Gaia DR2 490169022466344448 suspect suspect\n",
      "Gaia DR2 3303258492657447296 suspect good\n",
      "Gaia DR2 250862824946594816 noPhot good\n",
      "Gaia DR2 152091973137497216 good good\n",
      "Gaia DR2 3299044678766326912 suspect bad\n",
      "Gaia DR2 3283853143218651264 suspect good\n",
      "Gaia DR2 3186716371850274048 suspect good\n",
      "Gaia DR2 2986473765172532864 noPhot good\n",
      "Gaia DR2 265911806235019008 noPhot good\n",
      "Gaia DR2 2957768982608383488 good good\n",
      "Gaia DR2 269226279739467904 suspect good\n",
      "Gaia DR2 3022956969731332096 noPhot good\n",
      "Gaia DR2 481814138550499456 suspect good\n",
      "Gaia DR2 192454873200555392 noPhot good\n",
      "Gaia DR2 1106815275498845440 good good\n",
      "Gaia DR2 3103811515783541504 noPhot good\n",
      "Gaia DR2 3052844272764398208 noPhot good\n",
      "Gaia DR2 891234232503511552 good good\n",
      "Gaia DR2 3054384241873425280 suspect good\n",
      "Gaia DR2 5646089927728820736 good good\n",
      "Gaia DR2 5649105926779602432 suspect bad\n",
      "Gaia DR2 3837609942479568512 suspect good\n",
      "Gaia DR2 1067421801098857728 good bad\n",
      "Gaia DR2 5672600772274345600 noPhot good\n",
      "Gaia DR2 855361055035055104 suspect good\n",
      "Gaia DR2 3914686699729551744 noPhot good\n",
      "Gaia DR2 3521661939049391488 suspect good\n",
      "Gaia DR2 4011194202932877696 noPhot good\n",
      "Gaia DR2 3508725463193741696 suspect good\n",
      "Gaia DR2 3691685882071367936 noPhot good\n",
      "Gaia DR2 3605625148071843712 good good\n",
      "Gaia DR2 1456907504427822464 suspect suspect\n",
      "Gaia DR2 6290597874124221184 good good\n",
      "Gaia DR2 6273945843535991040 suspect suspect\n",
      "Gaia DR2 6281218357040987136 good good\n",
      "Gaia DR2 1294793345366747776 good good\n",
      "Gaia DR2 1277232907719022464 noPhot good\n",
      "Gaia DR2 1373569711363357056 good good\n",
      "Gaia DR2 4347700805681797120 suspect bad\n",
      "Gaia DR2 1626445600362602240 noPhot good\n",
      "Gaia DR2 1372458109403442432 noPhot good\n",
      "Gaia DR2 4349513797276615680 noPhot suspect\n",
      "Gaia DR2 4450425359563998848 good good\n",
      "Gaia DR2 4433378806161595904 suspect good\n",
      "Gaia DR2 1431176943768691328 suspect good\n",
      "Gaia DR2 4131862957999471744 noPhot bad\n",
      "Gaia DR2 4126670518631322880 suspect suspect\n",
      "Gaia DR2 4598830738931385984 suspect good\n",
      "Gaia DR2 4596322473734130304 suspect good\n",
      "Gaia DR2 1711005951573009792 noPhot good\n",
      "Gaia DR2 4497414466452138496 noPhot good\n",
      "Gaia DR2 4484289866726156160 suspect suspect\n",
      "Gaia DR2 4483974792231866624 suspect suspect\n",
      "Gaia DR2 4078565991609760384 good good\n",
      "Gaia DR2 4539227892919675648 noPhot good\n",
      "Gaia DR2 4268167357267580160 noPhot good\n",
      "Gaia DR2 2080526555267049984 noPhot good\n",
      "Gaia DR2 4235280071072332672 noPhot suspect\n",
      "Gaia DR2 4249667902270614272 noPhot good\n",
      "Gaia DR2 2181187768204553600 suspect good\n",
      "Gaia DR2 1844125748497557632 noPhot good\n",
      "Gaia DR2 6913810483611035776 noPhot good\n",
      "Gaia DR2 2188860027203347968 noPhot good\n",
      "Gaia DR2 2276785803110661504 good good\n",
      "Gaia DR2 1896636873351587840 good suspect\n",
      "Gaia DR2 1955134710179436672 noPhot good\n",
      "Gaia DR2 2836609093355562496 noPhot good\n",
      "Gaia DR2 1936315366080098432 noPhot good\n",
      "Gaia DR2 2631967439437024384 noPhot good\n",
      "Gaia DR2 1997383581913649152 suspect good\n",
      "Gaia DR2 1939308236730745472 suspect good\n"
     ]
    }
   ],
   "source": [
    "ctr_NotInMWDD = 0\n",
    "ctr_NoPS1InMWDD = 0\n",
    "ctr_DiffPhot = 0\n",
    "ctr_DiffBad = 0\n",
    "\n",
    "for i in range(1,len(sample_info)):\n",
    "    obj = sample_info[i]\n",
    "    GaiaID = obj[0]\n",
    "#    if i%100==0: print('({}/{})...'.format(i,len(sample_info)),end=\"\")\n",
    "    \n",
    "    # find sample object in MWDD\n",
    "    idx = np.flatnonzero(np.core.defchararray.find(mwdd_info[:,0],GaiaID)!=-1)\n",
    "    \n",
    "    # find sample object's quality flag\n",
    "    qidx = pid.index(GaiaID[9:])\n",
    "    qflag = qflags[qidx]\n",
    "    \n",
    "    if len(idx)<1: # if the object isn't in the MWDD, skip it\n",
    "#        print('Object not in MWDD')\n",
    "        ctr_NotInMWDD += 1\n",
    "        continue\n",
    "    \n",
    "    # compare PS1 photometry\n",
    "    SamplePhot = np.asarray(obj[1:11:2],dtype=float) # sample photometry\n",
    "    \n",
    "    # sometimes there are bad PS1 points. set their value to 0\n",
    "    MWDDPhot = mwdd_info[idx][0][-5:]\n",
    "    MWDDPhot[np.where(MWDDPhot=='')] = 0.\n",
    "    MWDDPhot = np.asarray(mwdd_info[idx][0][-5:],dtype=float) # MWDD photometry\n",
    "    \n",
    "    # check if there is MWDD phot\n",
    "    if np.mean(MWDDPhot)==0:\n",
    "        ctr_NoPS1InMWDD += 1\n",
    "        continue\n",
    "        \n",
    "    qidx = pid_mwdd.index(GaiaID[9:])\n",
    "    qflag_mwdd = qflags_mwdd[qidx]\n",
    "    \n",
    "    # check the difference. tolerate a 0.1 mag max diff\n",
    "    PhotDiff = np.abs(SamplePhot-MWDDPhot)\n",
    "    if np.any(PhotDiff>0.1):\n",
    "        ctr_DiffPhot += 1\n",
    "        if qflag=='bad': \n",
    "            ctr_DiffBad += 1\n",
    "        else: print(GaiaID, qflag, qflag_mwdd)\n",
    "#            print('Different photometry')"
   ]
  },
  {
   "cell_type": "code",
   "execution_count": 48,
   "metadata": {},
   "outputs": [
    {
     "name": "stdout",
     "output_type": "stream",
     "text": [
      "40 1872 137 42\n"
     ]
    }
   ],
   "source": [
    "print(ctr_NotInMWDD,ctr_NoPS1InMWDD,ctr_DiffPhot, ctr_DiffBad)"
   ]
  },
  {
   "cell_type": "code",
   "execution_count": 70,
   "metadata": {},
   "outputs": [
    {
     "name": "stdout",
     "output_type": "stream",
     "text": [
      "(1000/16269)...(2000/16269)...(3000/16269)...(4000/16269)...(5000/16269)...(6000/16269)...(7000/16269)...(8000/16269)...(9000/16269)...(10000/16269)...(11000/16269)...(12000/16269)...(13000/16269)...(14000/16269)...(15000/16269)...(16000/16269)..."
     ]
    }
   ],
   "source": [
    "ctr_NotInSamp = 0\n",
    "\n",
    "for i in range(1,len(mwdd_info)):\n",
    "    obj = mwdd_info[i]\n",
    "    if i%1000==0: print('({}/{})...'.format(i,len(mwdd_info)),end=\"\")\n",
    "    GaiaID = ''\n",
    "    \n",
    "    # extract mwdd photometry\n",
    "    # sometimes there are bad PS1 points. set their value to 0\n",
    "    MWDDPhot = obj[-5:]\n",
    "    MWDDPhot[np.where(MWDDPhot=='')] = 0.\n",
    "    MWDDPhot = np.asarray(obj[-5:],dtype=float) # MWDD photometry\n",
    "    \n",
    "    # if no MWDD photometry, skip\n",
    "    if np.mean(MWDDPhot)==0.: \n",
    "#        print('No PS1')\n",
    "        continue\n",
    "        \n",
    "    # else, look for Gaia ID\n",
    "    if obj[0][:4]=='Gaia': # check main ID first\n",
    "        GaiaID = obj[0]\n",
    "        \n",
    "    else: # else check all names\n",
    "        AltNames = obj[5].split(';')\n",
    "        for AltName in AltNames:\n",
    "            if AltName[:4]=='Gaia': \n",
    "                GaiaID = AltName\n",
    "                break\n",
    "                \n",
    "    # if object has no Gaia ID, skip\n",
    "    if GaiaID=='': continue\n",
    "        \n",
    "    # else, compare with sample\n",
    "    idx = np.flatnonzero(np.core.defchararray.find(sample_info[:,0],GaiaID[9:])!=-1) # find idx in sample\n",
    "    \n",
    "    if len(idx)==0: # if obj is not in sample\n",
    "#        print('Object in MWDD but not in sample')\n",
    "#        print('{} {}'.format(GaiaID,MWDDPhot))\n",
    "        ctr_NotInSamp +=1\n",
    "        continue\n",
    "    \n",
    "    SamplePhot = np.asarray(sample_info[idx][0][-5:],dtype=float) # sample photometry\n",
    "    \n",
    "    # check the difference. tolerate a 0.01 mag max diff\n",
    "#    PhotDiff = np.abs(SamplePhot-MWDDPhot)\n",
    "#    if np.any(PhotDiff>0.01):\n",
    "#        print('Different photometry')\n",
    "        "
   ]
  },
  {
   "cell_type": "code",
   "execution_count": 71,
   "metadata": {},
   "outputs": [
    {
     "name": "stdout",
     "output_type": "stream",
     "text": [
      "64 1869 317 2545\n"
     ]
    }
   ],
   "source": [
    "print(ctr_NotInMWDD,ctr_NoPS1InMWDD,ctr_DiffPhot,ctr_NotInSamp)"
   ]
  },
  {
   "cell_type": "code",
   "execution_count": null,
   "metadata": {},
   "outputs": [],
   "source": []
  }
 ],
 "metadata": {
  "kernelspec": {
   "display_name": "Python 3",
   "language": "python",
   "name": "python3"
  },
  "language_info": {
   "codemirror_mode": {
    "name": "ipython",
    "version": 3
   },
   "file_extension": ".py",
   "mimetype": "text/x-python",
   "name": "python",
   "nbconvert_exporter": "python",
   "pygments_lexer": "ipython3",
   "version": "3.7.7"
  }
 },
 "nbformat": 4,
 "nbformat_minor": 4
}
